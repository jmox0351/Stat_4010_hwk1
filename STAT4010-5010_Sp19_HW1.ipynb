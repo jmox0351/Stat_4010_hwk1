{
 "cells": [
  {
   "cell_type": "markdown",
   "metadata": {},
   "source": [
    "# Homework #1\n",
    "\n",
    "**See Canvas for HW #1 assignment due date**. Complete all of the following problems. Ideally, the theoretical problems should be answered in a Markdown cell directly underneath the question. If you don't know LaTex/Markdown, you may submit separate handwritten solutions to the theoretical problems, but please see the class scanning policy. Please do not turn in messy work. Computational problems should be completed in this notebook (using the R kernel). Computational questions may require code, plots, analysis, interpretation, etc. Working in small groups is allowed, but it is important that you make an effort to master the material and hand in your own work. \n"
   ]
  },
  {
   "cell_type": "markdown",
   "metadata": {},
   "source": [
    "## A. Theoretical Problems"
   ]
  },
  {
   "cell_type": "markdown",
   "metadata": {},
   "source": [
    "### Problem A.1\n"
   ]
  },
  {
   "cell_type": "markdown",
   "metadata": {},
   "source": [
    "Suppose that $X_1,...,X_n \\overset{iid}{\\sim}N(\\mu, \\sigma^2)$, where $\\sigma$ is known, and we are interested in an estimator for $\\theta = \\mu^2$. (Note that we will use the following calculuations to make comparisons to the parametric boostrap method explored below).\n",
    "\n",
    "#### (a) Find the maximum likelihood estimator (MLE) for $\\theta$, denoted $\\widehat{\\theta}$. \n",
    "\n",
    "This will be easy if you use one of the important properties of MLEs!"
   ]
  },
  {
   "cell_type": "markdown",
   "metadata": {
    "collapsed": true
   },
   "source": [
    "The Likelihood function for a Normal Distibution is $(2 \\pi \\sigma^{2})^{\\frac{-n}{2}} \\cdot \\exp{(\\frac{-1}{2 \\sigma^{2}} \\sum_{i=1}^{n}(x_{j} - \\mu)^{2}})$ and the derivative of the natural log of the Likelihood function shows us that $\\hat{\\mu} = mean(\\mu)$ because we can use the monotonic function $\\sqrt{x}$ to relate $\\mu$ and $\\mu^{2}$ then we can say $\\hat{\\theta} = (mean(\\mu))^{2}$"
   ]
  },
  {
   "cell_type": "markdown",
   "metadata": {},
   "source": [
    "#### (b) Compute the bias of $\\widehat{\\theta}$, denoted $Bias(\\widehat{\\theta})$. Recall that $Bias(\\widehat{\\theta}) = E(\\widehat{\\theta}) - \\theta$. "
   ]
  },
  {
   "cell_type": "markdown",
   "metadata": {},
   "source": [
    "for an estimate, $\\theta = E(\\hat{\\theta})+Bias(\\hat{\\theta})$ so for $\\mu$ this becomes $\\mu = E(\\hat{\\mu})+Bias(\\hat{\\mu})$ and we know that for any normal distribution $Bias(\\hat{\\mu}) = 0$ so $(\\mu)^{2} = (E(\\hat{\\mu})+0)^{2} = \\hat{\\theta} + 0 \\cdot Bias(\\hat{\\theta}) + 0 -> Bias(\\hat{\\theta}) = 0$"
   ]
  },
  {
   "cell_type": "markdown",
   "metadata": {},
   "source": [
    "#### (c) <span style=\"color: #CFB87C;\">(STAT 5010 Only)</span> Compute the variance of $\\widehat{\\theta}$, denoted $Var(\\widehat{\\theta})$. (HINT: You might use a moment generating function at some point in your answer.)"
   ]
  },
  {
   "cell_type": "markdown",
   "metadata": {},
   "source": []
  },
  {
   "cell_type": "markdown",
   "metadata": {},
   "source": [
    "#### (d) Write down the boostrap estimators of $Bias(\\widehat{\\theta})$ and $Var(\\widehat{\\theta})$."
   ]
  },
  {
   "cell_type": "markdown",
   "metadata": {},
   "source": [
    "For $Bias(\\hat{\\theta})$ we will use $\\sum_{i=1}^{n}\\frac{\\hat{\\theta_{i}}-mean(\\hat{\\theta})}{n} = Bias(\\hat{\\theta})$ and for $Var(\\hat{\\theta})$ we will use the standard deviation of the vector we get from computing $\\hat{\\theta}$ for each of the bootstrap samples"
   ]
  },
  {
   "cell_type": "markdown",
   "metadata": {},
   "source": [
    "### Problem A.2 \n",
    "\n",
    "#### Provide a brief explanation of the pros and cons of using the bootstrap for calculating confidence intervals."
   ]
  },
  {
   "cell_type": "markdown",
   "metadata": {},
   "source": [
    "The pro's of bootstraping are that for small samples from non-regular populations we can more acurately determine estimates for a population parameter and come up with the bootstrap pivot CI for these estimates. There are cons to both parametric and non-parametric bootstraping. For parametric bootstraping we are opperating under the assumption that the underlying population has the same distribution as our sample. If we make this assumption incorrectly everything we do from thereon out will be invalid. For non-parametric bootstraping we can run into issues if the sample gets to small because we may end up understating the probability of rare events and in both cases we assume an infinite population, but if our bootstrap sample is a non-trival percentage of a finite population the assumptions of bootstraping break down. (credit to Michael Chernick author of \"Bootstrap Methods: A Practitioners Guide\" https://stats.stackexchange.com/questions/280725/pros-and-cons-of-bootstrapping)"
   ]
  },
  {
   "cell_type": "markdown",
   "metadata": {},
   "source": [
    "## B. Computational Problems"
   ]
  },
  {
   "cell_type": "markdown",
   "metadata": {},
   "source": [
    "### Problem B.1"
   ]
  },
  {
   "cell_type": "markdown",
   "metadata": {},
   "source": [
    "#### Suppose that $X_1,...,X_8 \\overset{iid}{\\sim} \\Gamma(\\alpha, \\beta)$. Let's use the bootstrap to compute a $90\\%$ confidence interval for the population standard deviation: $sd(X) = \\sqrt{\\alpha/\\beta^2} = \\theta$.\n",
    "\n",
    "\n",
    "\n",
    "Note: \n",
    "\n",
    "The convention in this course will be to interpret $\\Gamma(\\alpha, \\beta)$ as the \"shape/rate\" parameterization: shape = $\\alpha$, rate = $\\beta$. But R uses the \"shape/scale\" parameterization: shape = $\\alpha$, scale = $\\theta = 1/\\beta$. \n",
    "\n",
    "To be sure that you are properly simulating from the right gamma distribution, see the help file for rgamma() (run: ?rgamma). Also, see [here](https://en.wikipedia.org/wiki/Gamma_distribution) for more information on the gamma distribution.\n",
    "\n",
    "\n",
    "#### (a) State why a $\\chi^2$ confidence interval is not valid in this context.\n",
    "You should reply on knowledge from your prereq class!"
   ]
  },
  {
   "cell_type": "markdown",
   "metadata": {},
   "source": [
    "This is not a normal distribution and we cannot use the chi squared distribution because we have small sample with an unknown variance"
   ]
  },
  {
   "cell_type": "markdown",
   "metadata": {},
   "source": [
    "#### (b) Generate a sample of size $n = 8$ from $\\Gamma(\\alpha = 3, \\beta = 4)$ and calculate the true population standard deviation (in this example, we are generating data so that we can see how well our estimation procedure will do)."
   ]
  },
  {
   "cell_type": "code",
   "execution_count": 26,
   "metadata": {},
   "outputs": [
    {
     "name": "stdout",
     "output_type": "stream",
     "text": [
      "0.4330127"
     ]
    }
   ],
   "source": [
    "set.seed(299)\n",
    "n = 8; x = rgamma(n,shape = 3,rate = 4);\n",
    "trueSD = sqrt(3/16);\n",
    "cat(trueSD)"
   ]
  },
  {
   "cell_type": "markdown",
   "metadata": {},
   "source": [
    "#### (c) Generate $B = 200$ bootstrap samples from the above sample. Print the dimension, and articulate what each row/column represents. Avoid loops! (HINT: use the replicate() function.)\n"
   ]
  },
  {
   "cell_type": "code",
   "execution_count": 27,
   "metadata": {},
   "outputs": [
    {
     "data": {
      "text/html": [
       "<ol class=list-inline>\n",
       "\t<li>8</li>\n",
       "\t<li>200</li>\n",
       "</ol>\n"
      ],
      "text/latex": [
       "\\begin{enumerate*}\n",
       "\\item 8\n",
       "\\item 200\n",
       "\\end{enumerate*}\n"
      ],
      "text/markdown": [
       "1. 8\n",
       "2. 200\n",
       "\n",
       "\n"
      ],
      "text/plain": [
       "[1]   8 200"
      ]
     },
     "metadata": {},
     "output_type": "display_data"
    }
   ],
   "source": [
    "B = 200\n",
    "bs = replicate(B, sample(x,n,replace = TRUE)); dim(bs)"
   ]
  },
  {
   "cell_type": "markdown",
   "metadata": {},
   "source": [
    "This means that the bootstrap matrix, bs has 8 rows, the same number as the original sample, x, with replacement, and 200 columns which is the number of bootstrap samples we have just taken"
   ]
  },
  {
   "cell_type": "markdown",
   "metadata": {},
   "source": [
    "#### (d) Calculate and print the sample standard deviation, $s$. Then, calculate $s$ for each bootstrap sample. Denote this as $s^*_i$, for $i = 1,...,B$. Avoid loops! (HINT: use the apply() function.) Display a histogram of the distribution of  $s^*_i, \\,\\, i=1,...B$."
   ]
  },
  {
   "cell_type": "code",
   "execution_count": 28,
   "metadata": {
    "scrolled": true
   },
   "outputs": [
    {
     "name": "stdout",
     "output_type": "stream",
     "text": [
      "0.320464"
     ]
    },
    {
     "data": {
      "image/png": "[encoded data removed]",
      "text/plain": [
       "Plot with title \"Histogram of sdBS\""
      ]
     },
     "metadata": {},
     "output_type": "display_data"
    }
   ],
   "source": [
    "sdSample = sd(x);\n",
    "sdBS = apply(bs,2,sd);\n",
    "hist(sdBS);\n",
    "cat(sdSample)"
   ]
  },
  {
   "cell_type": "markdown",
   "metadata": {},
   "source": [
    "#### (e) Use the quantile() function to find the 5th and 95th percentile of the distribution of  $s^*_i$. Use these values to calculate the $90\\%$ boostrap pivot confidence interval and bootstrap percentile confidence interval for $\\theta$. "
   ]
  },
  {
   "cell_type": "code",
   "execution_count": 29,
   "metadata": {},
   "outputs": [
    {
     "data": {
      "text/html": [
       "<strong>5%:</strong> 0.194665490553625"
      ],
      "text/latex": [
       "\\textbf{5\\textbackslash{}\\%:} 0.194665490553625"
      ],
      "text/markdown": [
       "**5%:** 0.194665490553625"
      ],
      "text/plain": [
       "       5% \n",
       "0.1946655 "
      ]
     },
     "metadata": {},
     "output_type": "display_data"
    },
    {
     "data": {
      "text/html": [
       "<strong>95%:</strong> 0.391300237070848"
      ],
      "text/latex": [
       "\\textbf{95\\textbackslash{}\\%:} 0.391300237070848"
      ],
      "text/markdown": [
       "**95%:** 0.391300237070848"
      ],
      "text/plain": [
       "      95% \n",
       "0.3913002 "
      ]
     },
     "metadata": {},
     "output_type": "display_data"
    },
    {
     "name": "stdout",
     "output_type": "stream",
     "text": [
      "The 90% bootstrap pivot CI is ( 0.2496278 ,  0.4462625 )"
     ]
    }
   ],
   "source": [
    "quantile(sdBS,0.05);\n",
    "quantile(sdBS,0.95);\n",
    "cat(\"The 90% bootstrap pivot CI is (\" ,2*sdSample - quantile(sdBS,0.95), \", \" ,2*sdSample - quantile(sdBS,0.05), \")\" )"
   ]
  },
  {
   "cell_type": "markdown",
   "metadata": {},
   "source": [
    "#### (f) Interpret this confidence interval."
   ]
  },
  {
   "cell_type": "markdown",
   "metadata": {
    "collapsed": true
   },
   "source": [
    "This means we are 90% certian that this interval covers the true standard deviation "
   ]
  },
  {
   "cell_type": "markdown",
   "metadata": {},
   "source": [
    "### Problem B.2"
   ]
  },
  {
   "cell_type": "markdown",
   "metadata": {},
   "source": [
    "Thus far, we've been looking at the *nonparametric bootstrap*. In this problem, we look at the *parametric bootstrap* as a way of estimating the bias and variance of an estimator $\\widehat{\\theta} = \\bar{X}^2$ of $\\theta = \\mu^2$ (in problem A.1 you calculated these values exactly).\n",
    "\n",
    "#### (a) Generate $X_1,...,X_{20} \\overset{iid}{\\sim}N(\\mu = 2, \\sigma^2 = 1)$, and then forget that you know $\\mu$ and $\\sigma^2$. Find the sample mean and sample variance. "
   ]
  },
  {
   "cell_type": "code",
   "execution_count": 121,
   "metadata": {},
   "outputs": [
    {
     "name": "stdout",
     "output_type": "stream",
     "text": [
      "Sample mean:  2.349677 Sample variance:  0.7211023"
     ]
    }
   ],
   "source": [
    "set.seed(232)\n",
    "nTwo = 20; xTwo = rnorm(nTwo,2,1); xbarTwo = mean(xTwo); vTwo = var(xTwo); cat(\"Sample mean: \" ,xbarTwo, \"Sample variance: \" ,vTwo)"
   ]
  },
  {
   "cell_type": "markdown",
   "metadata": {},
   "source": [
    "#### (b) Define $\\widehat{N}$ to be the distribution of the variable $X_i$ in the population with the sample estimates plugged in for the unknown population parameters. Write down $\\widehat{N}$ based on the data generated in (a). "
   ]
  },
  {
   "cell_type": "markdown",
   "metadata": {},
   "source": [
    "$\\hat{N}$ is our underlying distrubtion which in this case is $N(\\mu = 2, \\sigma^{2} = 1)$"
   ]
  },
  {
   "cell_type": "markdown",
   "metadata": {},
   "source": [
    "#### (c) Draw $B = 500$ parametric bootstrap samples from $\\widehat{N}$, and for each bootstrap sample $(X_{1,j},...,X_{20,j})$, compute $$ \\widehat{\\theta}^*_j = \\bigg(\\frac{1}{20}\\sum^{20}_{i=1}X^*_{i,j}\\bigg)^2,$$ where $j = 1,...,B$."
   ]
  },
  {
   "cell_type": "code",
   "execution_count": 124,
   "metadata": {},
   "outputs": [
    {
     "data": {
      "text/html": [
       "<ol class=list-inline>\n",
       "\t<li>20</li>\n",
       "\t<li>500</li>\n",
       "</ol>\n"
      ],
      "text/latex": [
       "\\begin{enumerate*}\n",
       "\\item 20\n",
       "\\item 500\n",
       "\\end{enumerate*}\n"
      ],
      "text/markdown": [
       "1. 20\n",
       "2. 500\n",
       "\n",
       "\n"
      ],
      "text/plain": [
       "[1]  20 500"
      ]
     },
     "metadata": {},
     "output_type": "display_data"
    }
   ],
   "source": [
    "set.seed(232)\n",
    "BTwo = 500\n",
    "bsTwo = replicate(BTwo, rnorm(nTwo,2,1)); dim(bsTwo)"
   ]
  },
  {
   "cell_type": "markdown",
   "metadata": {},
   "source": [
    "#### (d) Compute an estimate of the bias of $\\widehat{\\theta}$.\n",
    "\n"
   ]
  },
  {
   "cell_type": "code",
   "execution_count": 135,
   "metadata": {},
   "outputs": [
    {
     "name": "stdout",
     "output_type": "stream",
     "text": [
      "The point estimator of the bias of ThetaHat is: 0.1279705 \n",
      "The 90% CI for the Bias of ThetaHat is ( -1.440554 , 1.646163 )"
     ]
    }
   ],
   "source": [
    "thetaHatTwo = (colMeans(bsTwo))^2;\n",
    "thetaHatTwoBias = thetaHatTwo - 4;\n",
    "cat(\"The point estimator of the bias of ThetaHat is:\" ,mean(thetaHatTwoBias), \"\\n\");\n",
    "lb = 2*mean(thetaHatTwoBias)-quantile(thetaHatTwoBias,0.95);\n",
    "ub = 2*mean(thetaHatTwoBias)-quantile(thetaHatTwoBias,0.05);\n",
    "cat(\"The 90% CI for the Bias of ThetaHat is (\",lb, \",\" ,ub, \")\")"
   ]
  },
  {
   "cell_type": "markdown",
   "metadata": {},
   "source": [
    "#### (e) Compute an estimate of the variance of $\\widehat{\\theta}$.\n"
   ]
  },
  {
   "cell_type": "code",
   "execution_count": 153,
   "metadata": {},
   "outputs": [
    {
     "name": "stdout",
     "output_type": "stream",
     "text": [
      "The point estimate of the varince of thetaHat is  0.8833453 \n",
      "The 90% CI for the Bias of ThetaHat is ( -0.6625943 , 2.429285 )"
     ]
    }
   ],
   "source": [
    "cat(\"The point estimate of the varince of thetaHat is \",var(thetaHatTwo), \"\\n\")\n",
    "lbvar = var(thetaHatTwo) - qnorm(0.95) * sd(thetaHatTwo)\n",
    "ubvar = var(thetaHatTwo) + qnorm(0.95) * sd(thetaHatTwo)\n",
    "cat(\"The 90% CI for the Bias of ThetaHat is (\",lbvar, \",\" ,ubvar, \")\")"
   ]
  },
  {
   "cell_type": "markdown",
   "metadata": {},
   "source": [
    "#### (f) True or False: For a fixed sample size $n = 20$, as $B$ increases, $\\widehat{Bias}(\\widehat{\\theta})$ will approach ${Bias}(\\widehat{\\theta})$.  That is, for a fixed $n$, the bootstrap estimate of the bias will approach the true bias as the number of bootstrap samples, $B$ increases. You might consider running a simulation to decide!"
   ]
  },
  {
   "cell_type": "code",
   "execution_count": 151,
   "metadata": {},
   "outputs": [
    {
     "name": "stdout",
     "output_type": "stream",
     "text": [
      "The point estimator of the bias of ThetaHat is: 0.0484221 \n",
      "The 90% CI for the Bias of ThetaHat is ( -1.499405 , 1.427661 )"
     ]
    }
   ],
   "source": [
    "set.seed(2332);\n",
    "BSim = 10000;\n",
    "bsSim = replicate(BSim, rnorm(20,2,1));\n",
    "thetaHatSim = (colMeans(bsSim))^2;\n",
    "thetaHatSimBias = thetaHatSim - 4;\n",
    "cat(\"The point estimator of the bias of ThetaHat is:\" ,mean(thetaHatSimBias), \"\\n\");\n",
    "lb = 2*mean(thetaHatSimBias)-quantile(thetaHatSimBias,0.95);\n",
    "ub = 2*mean(thetaHatSimBias)-quantile(thetaHatSimBias,0.05);\n",
    "cat(\"The 90% CI for the Bias of ThetaHat is (\",lb, \",\" ,ub, \")\");"
   ]
  },
  {
   "cell_type": "markdown",
   "metadata": {},
   "source": [
    "Instinctively the answer is true, because as we take more random samples from a normal distribution then we would expect for the estimate of the bias of $\\mu$ to converge to 0 and from the theoretical section above we determined that the bias for $\\hat{\\theta}$ = 0. This is for a parametric case which means that we get to increase the number of iid samples from the population as B increases, but this is not the case for non-parametric bootstraping."
   ]
  },
  {
   "cell_type": "markdown",
   "metadata": {},
   "source": [
    "### Problem B.3\n",
    "\n",
    "The \"Wisconsin Card Sorting Test\" is widely used by psychiatrists, neurologists, and neurophycologists with patients who have a brain injury. Patients with any sort of frontal lobe lesion generally do poorly on the test. The data frame WCST contains the test scores from a group of 50 patients from the *Virgen del Camino* Hospital.\n",
    "#### (a) Using the code below, load the WCST data and explore whether there is reason to believe that the score data comes from a non-normal distribution. First, create a histogram (use ggplot!) and describe whether the data look normal. Then, use the function shapiro.test() to explore normality. Be sure to explain what this function does--i.e., what's the null and alternative hypothesis--in your answer."
   ]
  },
  {
   "cell_type": "code",
   "execution_count": 91,
   "metadata": {
    "scrolled": true
   },
   "outputs": [
    {
     "data": {
      "text/plain": [
       "\n",
       "\tShapiro-Wilk normality test\n",
       "\n",
       "data:  scores\n",
       "W = 0.77472, p-value = 2.405e-07\n"
      ]
     },
     "metadata": {},
     "output_type": "display_data"
    },
    {
     "data": {
      "text/html": [
       "1"
      ],
      "text/latex": [
       "1"
      ],
      "text/markdown": [
       "1"
      ],
      "text/plain": [
       "[1] 1"
      ]
     },
     "metadata": {},
     "output_type": "display_data"
    },
    {
     "data": {
      "image/png": "[encoded data removed]",
      "text/plain": [
       "plot without title"
      ]
     },
     "metadata": {},
     "output_type": "display_data"
    }
   ],
   "source": [
    "wcst = read.table(\"https://www.colorado.edu/amath/sites/default/files/attached-files/wcst.txt\")\n",
    "#or: install.packages(\"PASWR\", dependencies = TRUE)\n",
    "#library(PASWR); data(WCST)\n",
    "#library(ggplot2);\n",
    "#library(tidyverse)\n",
    "ggplot(wcst, aes(x=score))+geom_histogram(binwidth = 5);\n",
    "scores = wcst %>% pull(score)\n",
    "shapiro.test(scores)\n",
    "length(wcst)"
   ]
  },
  {
   "cell_type": "markdown",
   "metadata": {
    "collapsed": true
   },
   "source": [
    "This data does not appear normal. The Shapiro-Wilks test tell us that the p-value is less than our $\\alpha$: 0.05 and so we will reject $H_{0}$: The data is normal."
   ]
  },
  {
   "cell_type": "markdown",
   "metadata": {},
   "source": [
    "#### (b) What assumptions must be made in order to compute a (non-boostrap) 95% confidence interval for the population mean score?"
   ]
  },
  {
   "cell_type": "markdown",
   "metadata": {
    "collapsed": true
   },
   "source": [
    "We can either make the assumption that the underlying population distribution is normal(it does not appear to be in this case) or we can invoke CLT by saying our sample has enough data points ie n>40, which is true for this data"
   ]
  },
  {
   "cell_type": "markdown",
   "metadata": {},
   "source": [
    "#### (c) Compute the confidence interval from (b)."
   ]
  },
  {
   "cell_type": "code",
   "execution_count": 92,
   "metadata": {},
   "outputs": [
    {
     "name": "stdout",
     "output_type": "stream",
     "text": [
      "The 95% CI for the population mean using CLT is ( 16.37808 ,  26.58192 )"
     ]
    }
   ],
   "source": [
    "lb = mean(scores)-sd(scores)*1.96/sqrt(50);\n",
    "ub = mean(scores)+sd(scores)*1.96/sqrt(50);\n",
    "cat(\"The 95% CI for the population mean using CLT is (\" ,lb, \", \" ,ub, \")\")"
   ]
  },
  {
   "cell_type": "markdown",
   "metadata": {},
   "source": [
    "#### (d) Compute a 95% bootstrap pivot confidence interval for the mean. "
   ]
  },
  {
   "cell_type": "code",
   "execution_count": 64,
   "metadata": {},
   "outputs": [],
   "source": [
    "BThree = 500;\n",
    "nThree = 50;\n",
    "bsThree = replicate(BThree, sample(scores,nThree,replace = TRUE)); "
   ]
  },
  {
   "cell_type": "code",
   "execution_count": 63,
   "metadata": {},
   "outputs": [
    {
     "name": "stdout",
     "output_type": "stream",
     "text": [
      "The 95% Bootstrap pivot CI is: ( 16.64 , 26.34 )"
     ]
    }
   ],
   "source": [
    "scoreMeans = colMeans(bsThree);\n",
    "lb = 2*mean(scores)-quantile(scoreMeans,0.975);\n",
    "ub = 2*mean(scores)-quantile(scoreMeans,0.025);\n",
    "cat(\"The 95% Bootstrap pivot CI is: (\" ,lb, \",\" ,ub, \")\")"
   ]
  },
  {
   "cell_type": "markdown",
   "metadata": {},
   "source": [
    "### Problem B.4\n",
    "The dataset gives the number of births per month in New York city, from January 1946 to December 1959. The data are ordered.\n",
    "\n",
    "#### (a) Load the data using the code below. Put the data into the form of an R dataframe (or tibble). Construct another column in the dataset that labels the month and year for each birth per month record."
   ]
  },
  {
   "cell_type": "code",
   "execution_count": 156,
   "metadata": {},
   "outputs": [],
   "source": [
    "births = read.table(\"https://robjhyndman.com/tsdldata/data/nybirths.dat\", sep = \"\\t\")\n"
   ]
  },
  {
   "cell_type": "markdown",
   "metadata": {},
   "source": [
    "#### (b) Construct a plot of births per month against the month/year column that you created in part (a). Analyze the plot. Do you notice anything interesting?"
   ]
  },
  {
   "cell_type": "code",
   "execution_count": 157,
   "metadata": {
    "scrolled": true
   },
   "outputs": [
    {
     "data": {
      "text/html": [
       "<table>\n",
       "<thead><tr><th scope=col>V1</th></tr></thead>\n",
       "<tbody>\n",
       "\t<tr><td>26.663</td></tr>\n",
       "\t<tr><td>23.598</td></tr>\n",
       "\t<tr><td>26.931</td></tr>\n",
       "\t<tr><td>24.740</td></tr>\n",
       "\t<tr><td>25.806</td></tr>\n",
       "\t<tr><td>24.364</td></tr>\n",
       "\t<tr><td>24.477</td></tr>\n",
       "\t<tr><td>23.901</td></tr>\n",
       "\t<tr><td>23.175</td></tr>\n",
       "\t<tr><td>23.227</td></tr>\n",
       "\t<tr><td>21.672</td></tr>\n",
       "\t<tr><td>21.870</td></tr>\n",
       "\t<tr><td>21.439</td></tr>\n",
       "\t<tr><td>21.089</td></tr>\n",
       "\t<tr><td>23.709</td></tr>\n",
       "\t<tr><td>21.669</td></tr>\n",
       "\t<tr><td>21.752</td></tr>\n",
       "\t<tr><td>20.761</td></tr>\n",
       "\t<tr><td>23.479</td></tr>\n",
       "\t<tr><td>23.824</td></tr>\n",
       "\t<tr><td>23.105</td></tr>\n",
       "\t<tr><td>23.110</td></tr>\n",
       "\t<tr><td>21.759</td></tr>\n",
       "\t<tr><td>22.073</td></tr>\n",
       "\t<tr><td>21.937</td></tr>\n",
       "\t<tr><td>20.035</td></tr>\n",
       "\t<tr><td>23.590</td></tr>\n",
       "\t<tr><td>21.672</td></tr>\n",
       "\t<tr><td>22.222</td></tr>\n",
       "\t<tr><td>22.123</td></tr>\n",
       "\t<tr><td>...</td></tr>\n",
       "\t<tr><td>28.065</td></tr>\n",
       "\t<tr><td>28.141</td></tr>\n",
       "\t<tr><td>29.048</td></tr>\n",
       "\t<tr><td>28.484</td></tr>\n",
       "\t<tr><td>26.634</td></tr>\n",
       "\t<tr><td>27.735</td></tr>\n",
       "\t<tr><td>27.132</td></tr>\n",
       "\t<tr><td>24.924</td></tr>\n",
       "\t<tr><td>28.963</td></tr>\n",
       "\t<tr><td>26.589</td></tr>\n",
       "\t<tr><td>27.931</td></tr>\n",
       "\t<tr><td>28.009</td></tr>\n",
       "\t<tr><td>29.229</td></tr>\n",
       "\t<tr><td>28.759</td></tr>\n",
       "\t<tr><td>28.405</td></tr>\n",
       "\t<tr><td>27.945</td></tr>\n",
       "\t<tr><td>25.912</td></tr>\n",
       "\t<tr><td>26.619</td></tr>\n",
       "\t<tr><td>26.076</td></tr>\n",
       "\t<tr><td>25.286</td></tr>\n",
       "\t<tr><td>27.660</td></tr>\n",
       "\t<tr><td>25.951</td></tr>\n",
       "\t<tr><td>26.398</td></tr>\n",
       "\t<tr><td>25.565</td></tr>\n",
       "\t<tr><td>28.865</td></tr>\n",
       "\t<tr><td>30.000</td></tr>\n",
       "\t<tr><td>29.261</td></tr>\n",
       "\t<tr><td>29.012</td></tr>\n",
       "\t<tr><td>26.992</td></tr>\n",
       "\t<tr><td>27.897</td></tr>\n",
       "</tbody>\n",
       "</table>\n"
      ],
      "text/latex": [
       "\\begin{tabular}{r|l}\n",
       " V1\\\\\n",
       "\\hline\n",
       "\t 26.663\\\\\n",
       "\t 23.598\\\\\n",
       "\t 26.931\\\\\n",
       "\t 24.740\\\\\n",
       "\t 25.806\\\\\n",
       "\t 24.364\\\\\n",
       "\t 24.477\\\\\n",
       "\t 23.901\\\\\n",
       "\t 23.175\\\\\n",
       "\t 23.227\\\\\n",
       "\t 21.672\\\\\n",
       "\t 21.870\\\\\n",
       "\t 21.439\\\\\n",
       "\t 21.089\\\\\n",
       "\t 23.709\\\\\n",
       "\t 21.669\\\\\n",
       "\t 21.752\\\\\n",
       "\t 20.761\\\\\n",
       "\t 23.479\\\\\n",
       "\t 23.824\\\\\n",
       "\t 23.105\\\\\n",
       "\t 23.110\\\\\n",
       "\t 21.759\\\\\n",
       "\t 22.073\\\\\n",
       "\t 21.937\\\\\n",
       "\t 20.035\\\\\n",
       "\t 23.590\\\\\n",
       "\t 21.672\\\\\n",
       "\t 22.222\\\\\n",
       "\t 22.123\\\\\n",
       "\t ...\\\\\n",
       "\t 28.065\\\\\n",
       "\t 28.141\\\\\n",
       "\t 29.048\\\\\n",
       "\t 28.484\\\\\n",
       "\t 26.634\\\\\n",
       "\t 27.735\\\\\n",
       "\t 27.132\\\\\n",
       "\t 24.924\\\\\n",
       "\t 28.963\\\\\n",
       "\t 26.589\\\\\n",
       "\t 27.931\\\\\n",
       "\t 28.009\\\\\n",
       "\t 29.229\\\\\n",
       "\t 28.759\\\\\n",
       "\t 28.405\\\\\n",
       "\t 27.945\\\\\n",
       "\t 25.912\\\\\n",
       "\t 26.619\\\\\n",
       "\t 26.076\\\\\n",
       "\t 25.286\\\\\n",
       "\t 27.660\\\\\n",
       "\t 25.951\\\\\n",
       "\t 26.398\\\\\n",
       "\t 25.565\\\\\n",
       "\t 28.865\\\\\n",
       "\t 30.000\\\\\n",
       "\t 29.261\\\\\n",
       "\t 29.012\\\\\n",
       "\t 26.992\\\\\n",
       "\t 27.897\\\\\n",
       "\\end{tabular}\n"
      ],
      "text/markdown": [
       "\n",
       "| V1 |\n",
       "|---|\n",
       "| 26.663 |\n",
       "| 23.598 |\n",
       "| 26.931 |\n",
       "| 24.740 |\n",
       "| 25.806 |\n",
       "| 24.364 |\n",
       "| 24.477 |\n",
       "| 23.901 |\n",
       "| 23.175 |\n",
       "| 23.227 |\n",
       "| 21.672 |\n",
       "| 21.870 |\n",
       "| 21.439 |\n",
       "| 21.089 |\n",
       "| 23.709 |\n",
       "| 21.669 |\n",
       "| 21.752 |\n",
       "| 20.761 |\n",
       "| 23.479 |\n",
       "| 23.824 |\n",
       "| 23.105 |\n",
       "| 23.110 |\n",
       "| 21.759 |\n",
       "| 22.073 |\n",
       "| 21.937 |\n",
       "| 20.035 |\n",
       "| 23.590 |\n",
       "| 21.672 |\n",
       "| 22.222 |\n",
       "| 22.123 |\n",
       "| ... |\n",
       "| 28.065 |\n",
       "| 28.141 |\n",
       "| 29.048 |\n",
       "| 28.484 |\n",
       "| 26.634 |\n",
       "| 27.735 |\n",
       "| 27.132 |\n",
       "| 24.924 |\n",
       "| 28.963 |\n",
       "| 26.589 |\n",
       "| 27.931 |\n",
       "| 28.009 |\n",
       "| 29.229 |\n",
       "| 28.759 |\n",
       "| 28.405 |\n",
       "| 27.945 |\n",
       "| 25.912 |\n",
       "| 26.619 |\n",
       "| 26.076 |\n",
       "| 25.286 |\n",
       "| 27.660 |\n",
       "| 25.951 |\n",
       "| 26.398 |\n",
       "| 25.565 |\n",
       "| 28.865 |\n",
       "| 30.000 |\n",
       "| 29.261 |\n",
       "| 29.012 |\n",
       "| 26.992 |\n",
       "| 27.897 |\n",
       "\n"
      ],
      "text/plain": [
       "    V1    \n",
       "1   26.663\n",
       "2   23.598\n",
       "3   26.931\n",
       "4   24.740\n",
       "5   25.806\n",
       "6   24.364\n",
       "7   24.477\n",
       "8   23.901\n",
       "9   23.175\n",
       "10  23.227\n",
       "11  21.672\n",
       "12  21.870\n",
       "13  21.439\n",
       "14  21.089\n",
       "15  23.709\n",
       "16  21.669\n",
       "17  21.752\n",
       "18  20.761\n",
       "19  23.479\n",
       "20  23.824\n",
       "21  23.105\n",
       "22  23.110\n",
       "23  21.759\n",
       "24  22.073\n",
       "25  21.937\n",
       "26  20.035\n",
       "27  23.590\n",
       "28  21.672\n",
       "29  22.222\n",
       "30  22.123\n",
       "... ...   \n",
       "139 28.065\n",
       "140 28.141\n",
       "141 29.048\n",
       "142 28.484\n",
       "143 26.634\n",
       "144 27.735\n",
       "145 27.132\n",
       "146 24.924\n",
       "147 28.963\n",
       "148 26.589\n",
       "149 27.931\n",
       "150 28.009\n",
       "151 29.229\n",
       "152 28.759\n",
       "153 28.405\n",
       "154 27.945\n",
       "155 25.912\n",
       "156 26.619\n",
       "157 26.076\n",
       "158 25.286\n",
       "159 27.660\n",
       "160 25.951\n",
       "161 26.398\n",
       "162 25.565\n",
       "163 28.865\n",
       "164 30.000\n",
       "165 29.261\n",
       "166 29.012\n",
       "167 26.992\n",
       "168 27.897"
      ]
     },
     "metadata": {},
     "output_type": "display_data"
    }
   ],
   "source": [
    "as.data.frame(births);\n",
    "month <- vector();\n",
    "year <- vector();\n",
    "for(i in 1:14){\n",
    "    for(j in 1:12){\n",
    "        month <- append(month,j)\n",
    "        year <- append(year, i + 1945 + j/12)\n",
    "    }    \n",
    "}\n",
    "births$year = year;\n",
    "births$month = as.factor(month);"
   ]
  },
  {
   "cell_type": "code",
   "execution_count": 158,
   "metadata": {},
   "outputs": [
    {
     "data": {
      "image/png": "[encoded data removed]",
      "text/plain": [
       "plot without title"
      ]
     },
     "metadata": {},
     "output_type": "display_data"
    }
   ],
   "source": [
    "births = births%>% mutate(month=factor(month, labels = c(\"January\", \"Febuary\",\"March\",\"April\",\"May\",\"June\",\"July\",\"August\",\"September\",\"Ocobter\",\"Novemeber\",\"December\")))\n",
    "births = births %>% rename(Live_Births_thousands = V1);\n",
    "ggplot(births, aes(x = year, y = Live_Births_thousands, color = month))+geom_point()"
   ]
  },
  {
   "cell_type": "markdown",
   "metadata": {},
   "source": [
    "#### (c) Suppose that your boss asked you to use the bootstrap to construct a confidence interval for the average number of births per month in New York city over the time period in the dataset. Write a short response to your boss describing why this confidence interval is not valid for this data."
   ]
  },
  {
   "cell_type": "markdown",
   "metadata": {},
   "source": [
    "The main issue is that the sample is clearly not IID in regards to month vs number of live births, because there is covariance with the year. This is unsuprising, the population of NYC grew from 1946, to 1959 in particular this was the baby boom era so births in general went up. It might be possible to see if the percentage of births in a given year by month do not exhibit the same covariance with year. "
   ]
  }
 ],
 "metadata": {
  "kernelspec": {
   "display_name": "R",
   "language": "R",
   "name": "ir"
  },
  "language_info": {
   "codemirror_mode": "r",
   "file_extension": ".r",
   "mimetype": "text/x-r-source",
   "name": "R",
   "pygments_lexer": "r",
   "version": "3.6.1"
  }
 },
 "nbformat": 4,
 "nbformat_minor": 2
}
